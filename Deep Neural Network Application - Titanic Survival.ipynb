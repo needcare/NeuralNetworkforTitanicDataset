{
 "cells": [
  {
   "cell_type": "markdown",
   "metadata": {},
   "source": [
    "# This notebook relies on the Coursera Course \"Deep Learning and Neural Networks\" week 4 jupyter notebook from deeplearning.ai. Please enroll into the course and download the \"Deep Neural Network - Application\" and \"dnn_app_utils_v2.py\" files and insert the L_layer_model code."
   ]
  },
  {
   "cell_ty