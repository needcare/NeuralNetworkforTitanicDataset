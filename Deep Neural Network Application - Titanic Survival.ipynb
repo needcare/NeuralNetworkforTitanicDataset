{
 "cells": [
  {
   "cell_type": "markdown",
   "metadata": {},
   "source": [
    "# This notebook relies on the Coursera Course \"Deep Learning and Neural Networks\" week 4 jupyter notebook from deeplearning.ai. Please enroll into the course and download the \"Deep Neural Network - Application\" and \"dnn_app_utils_v2.py\" files and insert the L_layer_model code."
   ]
  },
  {
   "cell_type": "code",
   "execution_count": 1,
   "metadata": {
    "collapsed": true
   },
   "outputs": [],
   "source": [
    "import time\n",
    "import numpy as np\n",
    "import pandas as pd\n",
    "import seaborn as sns\n",
    "import h5py\n",
    "import matplotlib.pyplot as plt\n",
    "\n",
    "# DOWNLOAD AND IMPORT dnn_app_utils-v2 FILE FROM COURSERA\n",
    "from dnn_app_utils_v2 import *\n",
    "\n",
    "%matplotlib inline\n",
    "plt.rcParams['figure.figsize'] = (5.0, 4.0) # set default size of plots\n",
    "plt.rcParams['image.interpolation'] = 'nearest'\n",
    "plt.rcParams['image.cmap'] = 'gray'\n",
    "\n",
    "%load_ext autoreload\n",
    "%autoreload 2\n",
    "\n",
    "np.random.seed(1)"
   ]
  },
  {
   "cell_type": "code",
   "execution_count": 2,
   "metadata": {
    "collapsed": true
   },
   "outputs": [],
   "source": [
    "def L_layer_model(X, Y, layers_dims, learning_rate = 0.0075, num_iterations = 3000, print_cost=False):\n",
    "   ### INSERT CODE FROM COURSERA HERE\n",
    "   ### INSERT CODE FROM COURSERA HERE\n",
    "   ### INSERT CODE FROM COURSERA HERE\n",
    "   ### INSERT CODE FROM COURSERA HERE\n",
    "   ### INSERT CODE FROM COURSERA HERE\n",
    "    \n",
    "    return parameters"
   ]
  },
  {
   "cell_type": "markdown",
   "metadata": {
    "collapsed": true
   },
   "source": [
    "# Train Neural Net on Titanic Survival data set"
   ]
  },
  {
   "cell_type": "markdown",
   "metadata": {},
   "source": [
    "## Read training data"
   ]
  },
  {
   "cell_type": "code",
   "execution_count": 3,
   "metadata": {
    "collapsed": true
   },
   "outputs": [],
   "source": [
    "train = pd.read_csv('datasets/titanic_train.csv')"
   ]
  },
  {
   "cell_type": "markdown",
   "metadata": {},
   "source": [
    "## Preprocess the data"
   ]
  },
  {
   "cell_type": "markdown",
   "metadata": {},
   "source": [
    "### Impute passenger age based on class"
   ]
  },
  {
   "cell_type": "code",
   "execution_count": 4,
   "metadata": {},
   "outputs": [
    {
     "data": {
      "text/plain": [
       "<matplotlib.axes._subplots.AxesSubplot at 0x10d7cddd8>"
      ]
     },
     "execution_count": 4,
     "metadata": {},
     "output_type": "execute_result"
    },
    {
     "data": {
      "image/png": "iVBORw0KGgoAAAANSUhEUgAAAswAAAGoCAYAAABSXLPLAAAABHNCSVQICAgIfAhkiAAAAAlwSFlz\nAAALEgAACxIB0t1+/AAAHTBJREFUeJzt3X+M3/ddH/Dn5c6u6/jievKBBKtapo23BIsTkmoUSLBR\nf0CqlqTQMNVt0xwGUhpECiUtqVI0EAUqt9nCWNSQpk7D5m1qoGnXLtAqpGmysVHqOOeM8C6wMXVD\nas+tk9hJndTn2x93l7mR846d8+f7ufvc4yFZeX++v94vx/fxPe/l9/vzGZufnw8AAHByZ/VdAAAA\nrGQCMwAANAjMAADQIDADAECDwAwAAA0TfRfQMjt72CU8AADo3NTU5NizPafDDAAADQIzAAA0CMwA\nANAgMAMAQIPADAAADQIzAAA0CMwAANAgMAMAQIPADAAADQIzAAA0CMwAANAgMAMAQIPADAAADQIz\nAAA0THT1waWUdUk+muSlSeaS/GySY0luSzKf5KEkV9daj3dVAwAALFeXHebXJJmotf5gkt9I8r4k\nNyS5vtZ6cZKxJJd2OD8AACxbZx3mJF9KMlFKOSvJOUm+meTlSe5dfP6uJK9O8vEOaxiEW2+9Offf\nf+9zv3AFOXLkcJJk06bJnis5PRddtD27dl3VdxkAwArSZWA+koXlGH+VZGuS1yb54Vrr/OLzh5Ns\nbn3Ali0bMzEx3mGJq8PGjeszPr66lps/+eSTSZLNm5t/xCvOxo3rMzW1ukI+ANCtLgPzLyX5k1rr\ndaWUFyf50yTrT3h+MskjrQ84dOiJDstbPd74xum88Y3TfZdxWqandyZJPvzhf9tzJadvdvZw3yUA\nACPWaph12bY8lOTRxfHXk6xL8kApZcfiY5ckua/D+QEAYNm67DD/yyQfKaXcl4XO8nuS/EWSW0op\n65M8nOSODucHAIBl6yww11qPJPmpkzy1vas5AQDgTFtdO8kAAGDEBGYAAGgQmAEAoEFgBgCABoEZ\nAAAaBGYAAGgQmAEAoEFgBgCABoEZAAAaBGYAAGgQmAEAoEFgBgCABoEZAAAaBGYAAGgQmAEAoEFg\nBgCABoEZAAAaBGYAgGWamdmfmZn9fZdBRyb6LgAAYLXbu/f2JMm2bef3XAld0GEGAFiGmZn9OXDg\nwRw48KAu80AJzAAAy7DUXX7mmOEQmAEAoEFgBgBYhp07rzjpmOGw6Q8AYBm2bTs/55573tNjhkdg\nBgBYJp3lYROYAQCWSWd52KxhBgCABoEZAAAaBGYAAGgQmAEAoEFgBgCABoEZAAAaBGYAgGWamdmf\nmZn9fZdBR1yHGQBgmfbuvT2J6zEPlQ4zwIDocsHozczsz4EDD+bAgQedfwPVWYe5lHJlkisXDzck\nOT/JRUn+VZL5JA8lubrWeryrGgDWGl0uGL2l825p7Pwbns46zLXW22qtO2qtO5J8MckvJvm1JNfX\nWi9OMpbk0q7mB1hrdLkAutH5koxSysuSfG+t9feTXJjk3sWn7kryyq7nB1grntnlAkZj584rTjpm\nOEax6e89SX59cTxWa51fHB9Osrn1xi1bNmZiYrzL2ujI+PjCz2JTU5M9VwJrx7p1498ydv7BaLzi\nFRfnggsueHrM8HQamEspL0pSaq33LD504nrlySSPtN5/6NATXZVGx+bmFv6oZ2cP91wJrB2XX/6m\n7Nu37+mx8w9G5/LL35TE973VrNVk6LrD/MNJ7j7h+IFSyo5a6+eSXJLknpO+C4DTtm3b+Tn33POe\nHgOj45wbtq4Dc0nyP084fmeSW0op65M8nOSOjucHWFOsnwQ48zoNzLXW3c84/lKS7V3OCbCW6XIB\nnHluXAIAAA0CMwAANAjMAADQIDADAECDwAwAAA0CMwAANAjMAADQIDADAECDwAwwIDMz+zMzs7/v\nMgAGpetbYwMwQnv33p7EHf8AziQdZoCBmJnZnwMHHsyBAw/qMgOcQQIzwEAsdZefOQZgeQRmAABo\nEJgBBmLnzitOOga6Z8PtsNn0BzAQ27adn3PPPe/pMTA6NtwOm8AMMCA6yzB6Sxtul8ZC8/BYkgEw\nINu2ne+bNYyYDbfDJzADAECDwAwAsAw23A6fNcwAAMtgw+3wCcwAAMukszxslmQAAECDDjMAwDK5\nDvOw6TADACzD0nWYDxx40N3+BkpgBgBYBtdhHj6BGQAAGgRmgAGZmdnvn4RhxFyHefhs+gMYEBuP\nYPRch3n4BGaAgVjaeLQ09o0bRkdnedgsyQAYCBuPoD/btp3vh9QBE5gBAJbJ/oFhE5gBBsLGI+jP\n3r23+5edAbOGGWAgbDyCftg/MHwCM8CA6CzD6D1z/4DAPDwCM8CA+EYNcOZZwwwwIDYewejZPzB8\nnXaYSynXJfnxJOuT3JTk3iS3JZlP8lCSq2utx7usAWAtceMSGD37B4avsw5zKWVHkh9M8kNJtid5\ncZIbklxfa704yViSS7uaH2CtWdp4dODAg7rMMGI7d16huzxgXS7J+NEkB5J8PMl/SvKpJBdmocuc\nJHcleWWH8wOsKW5cAv1x45Jh63JJxtYkL0ny2iTfleSTSc6qtc4vPn84yebWB2zZsjETE+MdlkhX\nxscXfhabmprsuRJYO9atG/+WsfMPRueLX/xikuTCCy/suRK60GVg/lqSv6q1PpWkllKOZmFZxpLJ\nJI+0PuDQoSc6LI8uzc0tLE2fnT3ccyWwdlx++Zuyb9++p8fOPxidm276UJLkd37nhp4r4flqNRm6\nXJJxf5IfK6WMlVK+I8nZSe5eXNucJJckua/D+QEAOmf/wPB1FphrrZ9K8kCSP8/CGuark7wzya+X\nUv4sC1fOuKOr+QHWGmuYoR/OveHr9LJytdZ3neTh7V3OCQAAZ5IblwAMhJsnQD+ce8Pn1tgAA+Hm\nCdAP597wCcwAA6K7Bf1w7g2bwAwwILpb0A/n3rBZwwwwIHfeeUfuvNMFiADOJB1mgAFZuqTVZZe9\noedKAIZDhxlgIO688448/vjjefzxx3WZAc4ggRlgINw8AaAbAjMAADQIzAAD4eYJAN0QmAEG4rLL\n3pCzzz47Z599tk1/MGIzM/szM7O/7zLoiKtkAAyIzjL0Y2nfgOsxD5PADDAgOsswejMz+3PgwINP\nj4Xm4bEkAwBgGVyhZvgEZgAAaLAkA6Dh1ltvzv3339t3GafsyJHDSZJNmyZ7ruT0XHTR9uzadVXf\nZcDzsnPnFbnuunc+PWZ4BGaAATl69GiS1ReYYTXbtu38nHvueU+PGR6BGaBh166rVlXnc3p6Z5Jk\nz569PVcCa4vO8rAJzAAAy6SzPGw2/QEAQIPADAAADQIzAAA0CMwAANAgMAMAQIPADAAADQIzAAA0\nCMwAANAgMAMAQIPADAAADQIzAAA0CMwAANAgMAMAQIPADAAADRN9FwAA8Ey33npz7r//3r7LOGVH\njhxOkmzaNNlzJafnoou2Z9euq/ouY8XTYQYAWKajR4/m6NGjfZdBRzrtMJdS9iV5bPHwfyV5X5Lb\nkswneSjJ1bXW413WAACsPrt2XbWqOp/T0zuTJHv27O25ErrQWWAupWxIMlZr3XHCY59Mcn2t9XOl\nlA8luTTJx7uqAQAAlqvLDvN5STaWUj6zOM97klyYZGlB0l1JXh2BGQCAFazLwPxEkg8k+XCSf5KF\ngDxWa51ffP5wks2tD9iyZWMmJsY7LJGujI8vLI+fmlpdmx9gtXPuQT+ce8PWZWD+UpK/WQzIXyql\nfC0LHeYlk0keaX3AoUNPdFgeXZqbW1iaPjt7uOdKYG1x7kE/nHurX+uHnS6vkvHTST6YJKWU70hy\nTpLPlFJ2LD5/SZL7OpwfAACWrcsO861Jbiul3J+Fq2L8dJKDSW4ppaxP8nCSOzqc/1lde+01OXhw\nto+p14yl/79Lu4bpxtatU9m9+8a+ywCAQessMNdan0pysrS0vas5T9XBg7P56le/mrGJDX2XMljz\n8wv/eDH79cee45U8X/PHXO8TAEZhzd7pb2xiQza/+BV9lwHP26NfvrvvEgBgTXCnPwAAaBCYAQCg\nQWAGAIAGgRkAABoEZgAAaBCYAQCgQWAGAIAGgRkAABoEZgAAaBCYAQCgQWAGAIAGgRkAABoEZgAA\naBCYAQCgQWAGAIAGgRkAABoEZgAAaBCYAQCgQWAGAIAGgRkAABoEZgAAaBCYAQCgQWAGAIAGgRkA\nABoEZgAAaBCYAQCgQWAGAIAGgRkAABpOOTCXUrZ0WQgAAKxEE8/1glLK+Un+Q5KNpZQfSHJvkp+q\nte7rujgAAOjbqXSYfzfJ65N8rdb6f5P8fJIPdVoVAACsEKcSmDfWWh9eOqi1fjbJC7orCQAAVo5T\nCcxfL6Wcl2Q+SUopb0ry9U6rAgCAFeI51zBnYQnGR5N8bynlkSR/neTNnVYFAAArxHMG5lrr3ya5\nqJRydpLxWutj3ZcFAAArw6lcJeOeLC7HWDyeT/KNJA8n+a1a66HGe78tyReTvCrJsSS3LX7WQ0mu\nrrUeX07xAADQtVNZw/yXSWaSvGPx1xeSPJLk75Pc+mxvKqWsS3JzFsJ1ktyQ5Ppa68VJxpJc+vzL\nBgCA0TiVNcwvr7VeeMLxTCnlC7XWN5dSrmi87wNZuPzcdYvHF2bhGs5JcleSVyf5eGviLVs2ZmJi\n/BRKPD3j425wyDCMj5+VqanJvstgBVn6+83XBYyWc2/YTiUwryulfG+t9X8kSSnlnyYZL6W8MMn6\nk72hlHJlktla65+UUpYC81itdWlpx+Ekm59r4kOHnjiF8k7f3JyVIAzD3NzxzM4e7rsMVpClv998\nXcBoOfdWv9YPO6cSmH8xyV2llK9kYQnHlixcJeNfJLn9Wd7z00nmSymvTHL+4uu+7YTnJ7OwrAMA\nAFa0U7lKxudKKf8oyfcluSTJjyb5TK11U+M9P7w0LqV8LsnbkuwupeyotX5u8XPuWV7pAADQvVO5\nSsZ3JbkqyXSSFyV5X5LLnsdc70xySyllfRausHHH8/gMAAAYqWcNzKWU12ehM3xBFjbnvTnJLbXW\n3zidCWqtO0443P48agQAgN60Osx/mORjSX6g1vo3SVJKsVsOAIA1pRWYtyW5Msn9pZS/S/Lvn+P1\nAAAwOM96QeJa60O11l9J8p1JfjvJjiTfXkr5dCnlNSOqDwAAenUqV8mYS/KJJJ8opUwleUsWAvR/\n7rg2AADo3Wktsai1zmbhFtc3dFMOAACsLO4RDQAADWtyE9+RI4czf+xoHv3y3X2XAs/b/LGjOXJk\nrO8yAGDwdJgBAKBhTXaYN22azDeems/mF7+i71LgeXv0y3dn06bJvssAgMHTYQYAgAaBGQAAGtbk\nkgygH9dee00OHpztu4xBW/r/Oz29s+dKhm/r1qns3n1j32UAIyAwAyNz8OBsvjL71WTDhr5LGa6z\nFv7h8CuHH+u5kIE7erTvCoAREpiB0dqwId981Y/0XQUsy7rP3tN3CcAIWcMMAAANAjMAADQIzAAA\n0CAwAwBAg8AMAAANAjMAADQIzAAA0CAwAwBAg8AMAAANAjMAADQIzAAA0CAwAwBAg8AMAAANAjMA\nADRM9F0AANCta6+9JgcPzvZdxqAt/f+dnt7ZcyXDt3XrVHbvvnGkcwrMADBwBw/O5qsHv5L157yg\n71KGa91YkuSRpx7puZBhe+qxJ3uZV2AGgDVg/TkvyPe9+4K+y4BleeD9+3qZ1xpmAABoEJgBAKBB\nYAYAgAaBGQAAGjrb9FdKGU9yS5KSZD7J25IcTXLb4vFDSa6utR7vqgYAAFiuLjvMr0uSWusPJbk+\nyfuS3JDk+lrrxUnGklza4fwAALBsnQXmWuudSX5u8fAlSR5JcmGSexcfuyvJK7uaHwAAzoROr8Nc\naz1WSvloktcneUOSV9Va5xefPpxkc+v9W7ZszMTE+Bmva3zc0m2GYXz8rExNTfZdxilz7jEkq+n8\nc+4xJH2ce53fuKTW+tZSyruT/PckLzzhqcksdJ2f1aFDT3RS09ycZdMMw9zc8czOHu67jFPm3GNI\nVtP559xjSLo691ohvLMfOUspbymlXLd4+ESS40n+opSyY/GxS5Lc19X8AABwJnTZYf6jJHtKKZ9P\nsi7JO5I8nOSWUsr6xfEdHc4PrDBHjhxOjh7Nus/e03cpsDxHj+bI2FjfVQAj0llgrrU+nuSnTvLU\n9q7mBACAM63zNcwASzZtmszj8/P55qt+pO9SYFnWffaebNq0Ojb8Actn2ywAADQIzAAA0CAwAwBA\ng8AMAAANAjMAADQIzAAA0LBmLys3f+xoHv3y3X2XMVjzc99MkoyNr+u5kuGaP3Y0yTl9lwEAg7cm\nA/PWrVN9lzB4Bw/OJkm2/gOBrjvn+FoGgBFYk4F59+4b+y5h8KandyZJ9uzZ23MlAADLYw0zAAA0\nCMwAANAgMAMAQIPADAAADQIzAAA0CMwAANAgMAMAQIPADAAADQIzAAA0CMwAANCwJm+NDQBryZEj\nh/PUN57MA+/f13cpsCxPPfpkjrzw8Mjn1WEGAIAGHWYAGLhNmyZzbP1cvu/dF/RdCizLA+/fl03r\nJ0c+rw4zAAA06DADo3X0aNZ99p6+qxiub35z4b/r1vVbx9AdPZpMntN3FcCICMzAyGzdOtV3CYN3\n8OBskmSrMNetyXN8PcMaIjADI7N79419lzB409M7kyR79uztuRKA4bCGGQAAGgRmAABoEJgBAKBB\nYAYAgAaBGQAAGgRmAABoEJgBAKBBYAYAgAaBGQAAGjq5018pZV2SjyR5aZIXJPnNJH+Z5LYk80ke\nSnJ1rfV4F/MDAMCZ0lWH+c1JvlZrvTjJjyX5vSQ3JLl+8bGxJJd2NDcAAJwxnXSYk3wsyR2L47Ek\nx5JcmOTexcfuSvLqJB9vfciWLRszMTHeUYl0aXx84WexqanJniuBtcW5x8ksfV3AEIyPnzXyv+M6\nCcy11iNJUkqZzEJwvj7JB2qt84svOZxk83N9zqFDT3RRHiMwN7ew2mZ29nDPlcDa4tzjZJa+LmAI\n5uaOd/J3XCuEd/YjZynlxUnuSfIHtda9SU48WyeTPNLV3AAAcKZ0EphLKd+e5DNJ3l1r/cjiww+U\nUnYsji9Jcl8XcwMAwJnU1Rrm9yTZkuS9pZT3Lj52TZLfLaWsT/Jw/v8aZwAAWLG6WsN8TRYC8jNt\n72I+AADoim2zAADQIDADAEBDV2uYAYAV5KnHnswD79/XdxmDdewbx5IkEy8Urbr01GNPJltHP68/\nVQAYuK1bp/ouYfAOPjabJHnR5hf1XMnAbe3n61lgBoCB2737xr5LGLzp6Z1Jkj179vZcCV2whhkA\nABoEZgAAaBCYAQCgQWAGAIAGgRkAABoEZgAAaBCYAQCgQWAGAIAGgRkAABoEZgAAaBCYAQCgQWAG\nAIAGgRkAABoEZgAAaBCYAQCgQWAGAIAGgRkAABoEZgAAaBCYAQCgQWAGAIAGgRkAABoEZgAAaBCY\nAQCgQWAGAIAGgRkAABoEZgAAaBCYAQCgQWAGAIAGgRkAABoEZgAAaJjo8sNLKd+f5P211h2llH+c\n5LYk80keSnJ1rfV4l/MDAMByddZhLqW8K8mHk2xYfOiGJNfXWi9OMpbk0q7mBgCAM6XLJRl/m+Qn\nTji+MMm9i+O7kryyw7kBAOCM6GxJRq31D0spLz3hobFa6/zi+HCSzc/1GVu2bMzExHgX5dGx8fGF\nn8WmpiZ7rgTWFuce9MO5N2ydrmF+hhPXK08meeS53nDo0BPdVUOn5uYW/rhnZw/3XAmsLc496Idz\nb/Vr/bAzyqtkPFBK2bE4viTJfSOcGwAAnpdRdpjfmeSWUsr6JA8nuWOEcwMAwPPSaWCutf5dkpcv\njr+UZHuX8wEAwJnmxiUAANAgMAMAQIPADAAADQIzAAA0CMwAANAgMAMAQIPADAAADQIzAAA0CMwA\nANAgMAMAQIPADAAADQIzAAA0CMwAANAgMAMAQIPADAAADQIzAAA0CMwAANAgMAMAQIPADAAADQIz\nAAA0TPRdAMBKduutN+f+++/tu4xTdvDgbJJkenpnz5Wcnosu2p5du67quwyAkxKYAQZkbGys7xIA\nBkdgBmjYteuqVdX5fN3rXpUk2bNnb8+VAAyHNcwAA3HTTTfm+PHjOX78eG666ca+ywEYDIEZYCDu\nuutTJx0DsDwCMwAANAjMAANxySWvPekYgOURmAEG4u1vv+akYwCWR2AGGIg777zjpGMAlkdgBhiI\nvXtvP+kYgOURmAEAoEFgBhiInTuvOOkYgOURmAEAoMGtsVeBW2+9Offff2/fZZyWgwdnkyTT0zt7\nruT0XHTR9lV1G2Q40Uc+csu3jC+77A09VgMwHAIzndiwYUPfJcCaMzd37KRjAJZHYF4Fdu26StcT\neE5jY2OZn59/egzAmTHSwFxKOSvJTUnOS/Jkkp+ptf7NKGsAGKrXvOZ1+fSnP/n0GFaz1bYc0VLE\nYRv1pr/Lkmyotf5Akl9N8sERzw8wWG9/+zUZGxvL2NiYO/3BiG3YsMFyxAEb9ZKMi5L8cZLUWv9b\nKeVlrRdv2bIxExPjIykMYAh+8id/MkkyNTXZcyWwPL/6q7+S5Ff6LgOSjD4wn5Pk0ROO50opE7XW\nk+5OOXToidFUBTAQ09M/nySZnT3ccyUAq0ur0TDqJRmPJTmxmrOeLSwDAMBKMOrA/F+SvCZJSikv\nT3JgxPMDAMBpGfWSjI8neVUp5b8mGUsyPeL5AQDgtIwtXbNzJZqdPbxyiwMAYDCmpiaf9QL2o16S\nAQAAq4rADAAADQIzAAA0CMwAANAgMAMAQIPADAAADQIzAAA0CMwAANAgMAMAQIPADAAADSv61tgA\nANA3HWYAAGgQmAEAoEFgBgCABoEZAAAaBGYAAGgQmAEAoEFgBgCAhom+C2CYSinfn+T9tdYdfdcC\na0UpZV2SjyR5aZIXJPnNWusney0K1oBSyniSW5KUJPNJ3lZrfajfqjiTdJg540op70ry4SQb+q4F\n1pg3J/larfXiJD+W5Pd6rgfWitclSa31h5Jcn+R9/ZbDmSYw04W/TfITfRcBa9DHkrx3cTyW5FiP\ntcCaUWu9M8nPLR6+JMkjPZZDByzJ4Iyrtf5hKeWlfdcBa02t9UiSlFImk9yRhU4XMAK11mOllI8m\neX2SN/RdD2eWDjPAgJRSXpzkniR/UGvd23c9sJbUWt+a5LuT3FJKObvvejhzdJgBBqKU8u1JPpPk\nF2qtd/ddD6wVpZS3JPmHtdbfTvJEkuOLvxgIgRlgON6TZEuS95ZSltYyX1Jr/UaPNcFa8EdJ9pRS\nPp9kXZJ3OO+GZWx+fr7vGgAAYMWyhhkAABoEZgAAaBCYAQCgQWAGAIAGgRkAABpcVg5gBVq8W+aX\nkvxlkvkk65P8fZLpWuv/Ocnrr0yyo9Z65eiqBFgbBGaAlevva63nLx2UUn47yb/Owq13ARgRgRlg\n9fh8kh8vpbwyyQezsKzufyfZeeKLSimXJ3lnkhcu/vqZWuvnSym/nOStWbgD2Z/XWq8qpWxL8vtZ\n+H5wNAsd7L8e1W8IYDWwhhlgFSilrEvyz5P8eZJ/l+SttdZzk8xkIQQvve6sJG9L8tpa63lJfifJ\ntaWUiSTXJXlZkguTHC+lfGeSX0rywVrry7LQvX756H5XAKuDO/0BrEDPWMOcJC/IQlj+N0k+VGu9\n4BmvvzKLa5hLKeckeV2SkmRHkrla64+UUj6R5CVJPpHkY7XWh0opb1j8zE8t/vpkrXWu498ewKpi\nSQbAyvUta5iTpJRy3jOONyeZPOF4U5IvJPmDLCzhmEnyC4tPX5aFDvIlSf64lPKmWusdpZQ/S/La\nJO9I8pokP9vNbwdgdbIkA2B1qUmmSinfs3j8riwswVjy3VlYo/xbSf40C+F4vJQyleThJAdqrb+W\n5DNJtpVS/mOSf1ZrvTnJe5N8S+caAIEZYFWptR5N8uYkt5dSZpJ8TxbWKS95MMn+JH+VZF+SI0le\nUmudTXJzki+UUr6YZEuS27IQrN9TStmX5ANJfnlEvxWAVcMaZgAAaNBhBgCABoEZAAAaBGYAAGgQ\nmAEAoEFgBgCABoEZAAAaBGYAAGj4f3sAXwq10Bm9AAAAAElFTkSuQmCC\n",
      "text/plain": [
       "<matplotlib.figure.Figure at 0x10d7cdc50>"
      ]
     },
     "metadata": {},
     "output_type": "display_data"
    }
   ],
   "source": [
    "plt.figure(figsize=(12, 7))\n",
    "sns.boxplot(x='Pclass',y='Age',data=train,palette='viridis')"
   ]
  },
  {
   "cell_type": "markdown",
   "metadata": {},
   "source": [
    "### We can see that older passengers tend to be in class 1, while younger passengers are in class 3. Let's impute the average age for the missing age values based on passenger class."
   ]
  },
  {
   "cell_type": "code",
   "execution_count": 4,
   "metadata": {
    "collapsed": true
   },
   "outputs": [],
   "source": [
    "def impute_age(cols):\n",
    "    Age = cols[0]\n",
    "    Pclass = cols[1]\n",
    "    \n",
    "    if pd.isnull(Age):\n",
    "\n",
    "        if Pclass == 1:\n",
    "            return 37\n",
    "\n",
    "        elif Pclass == 2:\n",
    "            return 29\n",
    "\n",
    "        else:\n",
    "            return 24\n",
    "\n",
    "    else:\n",
    "        return Age"
   ]
  },
  {
   "cell_type": "code",
   "execution_count": 5,
   "metadata": {},
   "outputs": [
    {
     "data": {
      "text/html": [
       "<div>\n",
       "<style>\n",
       "    .dataframe thead tr:only-child th {\n",
       "        text-align: right;\n",
       "    }\n",
       "\n",
       "    .dataframe thead th {\n",
       "        text-align: left;\n",
       "    }\n",
       "\n",
       "    .dataframe tbody tr th {\n",
       "        vertical-align: top;\n",
       "    }\n",
       "</style>\n",
       "<table border=\"1\" class=\"dataframe\">\n",
       "  <thead>\n",
       "    <tr style=\"text-align: right;\">\n",
       "      <th></th>\n",
       "      <th>PassengerId</th>\n",
       "      <th>Survived</th>\n",
       "      <th>Pclass</th>\n",
       "      <th>Name</th>\n",
       "      <th>Sex</th>\n",
       "      <th>Age</th>\n",
       "      <th>SibSp</th>\n",
       "      <th>Parch</th>\n",
       "      <th>Ticket</th>\n",
       "      <th>Fare</th>\n",
       "      <th>Embarked</th>\n",
       "    </tr>\n",
       "  </thead>\n",
       "  <tbody>\n",
       "    <tr>\n",
       "      <th>0</th>\n",
       "      <td>1</td>\n",
       "      <td>0</td>\n",
       "      <td>3</td>\n",
       "      <td>Braund, Mr. Owen Harris</td>\n",
       "      <td>male</td>\n",
       "      <td>22.0</td>\n",
       "      <td>1</td>\n",
       "      <td>0</td>\n",
       "      <td>A/5 21171</td>\n",
       "      <td>7.2500</td>\n",
       "      <td>S</td>\n",
       "    </tr>\n",
       "    <tr>\n",
       "      <th>1</th>\n",
       "      <td>2</td>\n",
       "      <td>1</td>\n",
       "      <td>1</td>\n",
       "      <td>Cumings, Mrs. John Bradley (Florence Briggs Th...</td>\n",
       "      <td>female</td>\n",
       "      <td>38.0</td>\n",
       "      <td>1</td>\n",
       "      <td>0</td>\n",
       "      <td>PC 17599</td>\n",
       "      <td>71.2833</td>\n",
       "      <td>C</td>\n",
       "    </tr>\n",
       "    <tr>\n",
       "      <th>2</th>\n",
       "      <td>3</td>\n",
       "      <td>1</td>\n",
       "      <td>3</td>\n",
       "      <td>Heikkinen, Miss. Laina</td>\n",
       "      <td>female</td>\n",
       "      <td>26.0</td>\n",
       "      <td>0</td>\n",
       "      <td>0</td>\n",
       "      <td>STON/O2. 3101282</td>\n",
       "      <td>7.9250</td>\n",
       "      <td>S</td>\n",
       "    </tr>\n",
       "    <tr>\n",
       "      <th>3</th>\n",
       "      <td>4</td>\n",
       "      <td>1</td>\n",
       "      <td>1</td>\n",
       "      <td>Futrelle, Mrs. Jacques Heath (Lily May Peel)</td>\n",
       "      <td>female</td>\n",
       "      <td>35.0</td>\n",
       "      <td>1</td>\n",
       "      <td>0</td>\n",
       "      <td>113803</td>\n",
       "      <td>53.1000</td>\n",
       "      <td>S</td>\n",
       "    </tr>\n",
       "    <tr>\n",
       "      <th>4</th>\n",
       "      <td>5</td>\n",
       "      <td>0</td>\n",
       "      <td>3</td>\n",
       "      <td>Allen, Mr. William Henry</td>\n",
       "      <td>male</td>\n",
       "      <td>35.0</td>\n",
       "      <td>0</td>\n",
       "      <td>0</td>\n",
       "      <td>373450</td>\n",
       "      <td>8.0500</td>\n",
       "      <td>S</td>\n",
       "    </tr>\n",
       "  </tbody>\n",
       "</table>\n",
       "</div>"
      ],
      "text/plain": [
       "   PassengerId  Survived  Pclass  \\\n",
       "0            1         0       3   \n",
       "1            2         1       1   \n",
       "2            3         1       3   \n",
       "3            4         1       1   \n",
       "4            5         0       3   \n",
       "\n",
       "                                                Name     Sex   Age  SibSp  \\\n",
       "0                            Braund, Mr. Owen Harris    male  22.0      1   \n",
       "1  Cumings, Mrs. John Bradley (Florence Briggs Th...  female  38.0      1   \n",
       "2                             Heikkinen, Miss. Laina  female  26.0      0   \n",
       "3       Futrelle, Mrs. Jacques Heath (Lily May Peel)  female  35.0      1   \n",
       "4                           Allen, Mr. William Henry    male  35.0      0   \n",
       "\n",
       "   Parch            Ticket     Fare Embarked  \n",
       "0      0         A/5 21171   7.2500        S  \n",
       "1      0          PC 17599  71.2833        C  \n",
       "2      0  STON/O2. 3101282   7.9250        S  \n",
       "3      0            113803  53.1000        S  \n",
       "4      0            373450   8.0500        S  "
      ]
     },
     "execution_count": 5,
     "metadata": {},
     "output_type": "execute_result"
    }
   ],
   "source": [
    "train['Age'] = train[['Age','Pclass']].apply(impute_age,axis=1)\n",
    "train.drop('Cabin',axis=1,inplace=True)\n",
    "train.dropna(inplace=True)\n",
    "train.head()"
   ]
  },
  {
   "cell_type": "markdown",
   "metadata": {},
   "source": [
    "## Extract titles feature from Name"
   ]
  },
  {
   "cell_type": "markdown",
   "metadata": {},
   "source": [
    "### The Name column contains information about passenger titles, e.g. if a person is married or not and how old she might be. Let's extract this information and add it as a feature. Code courtesy of this post: https://www.kaggle.com/manuelatadvice/feature-engineering-titles"
   ]
  },
  {
   "cell_type": "code",
   "execution_count": 6,
   "metadata": {
    "collapsed": true
   },
   "outputs": [],
   "source": [
    "def get_title(name):\n",
    "    if '.' in name:\n",
    "        return name.split(',')[1].split('.')[0].strip()\n",
    "    else:\n",
    "        return 'Unknown'"
   ]
  },
  {
   "cell_type": "code",
   "execution_count": 7,
   "metadata": {},
   "outputs": [
    {
     "name": "stdout",
     "output_type": "stream",
     "text": [
      "Different titles found on the dataset:\n",
      "17 : ['Capt', 'Col', 'Don', 'Dr', 'Jonkheer', 'Lady', 'Major', 'Master', 'Miss', 'Mlle', 'Mme', 'Mr', 'Mrs', 'Ms', 'Rev', 'Sir', 'the Countess']\n",
      "\n"
     ]
    }
   ],
   "source": [
    "# A list with the all the different titles\n",
    "titles = sorted(set([x for x in train.Name.map(lambda x: get_title(x))]))\n",
    "print('Different titles found on the dataset:')\n",
    "print(len(titles), ':', titles)\n",
    "print()"
   ]
  },
  {
   "cell_type": "code",
   "execution_count": 8,
   "metadata": {
    "collapsed": true
   },
   "outputs": [],
   "source": [
    "# Normalize the titles, returning 'Mr', 'Master', 'Miss' or 'Mrs'\n",
    "def replace_titles(x):\n",
    "    title = x['Title']\n",
    "    if title in ['Capt', 'Col', 'Don', 'Jonkheer', 'Major', 'Rev', 'Sir']:\n",
    "        return 'Mr'\n",
    "    elif title in ['the Countess', 'Mme', 'Lady']:\n",
    "        return 'Mrs'\n",
    "    elif title in ['Mlle', 'Ms']:\n",
    "        return 'Miss'\n",
    "    elif title =='Dr':\n",
    "        if x['Sex']=='male':\n",
    "            return 'Mr'\n",
    "        else:\n",
    "            return 'Mrs'\n",
    "    else:\n",
    "        return title"
   ]
  },
  {
   "cell_type": "code",
   "execution_count": 9,
   "metadata": {
    "collapsed": true
   },
   "outputs": [],
   "source": [
    "# Lets create a new column for the titles\n",
    "train['Title'] = train['Name'].map(lambda x: get_title(x))\n",
    "\n",
    "# And replace the titles, so the are normalized to 'Mr', 'Miss' and 'Mrs'\n",
    "train['Title'] = train.apply(replace_titles, axis=1)\n",
    "\n",
    "# The name isn't helpful anymore, let's drop this column\n",
    "trai