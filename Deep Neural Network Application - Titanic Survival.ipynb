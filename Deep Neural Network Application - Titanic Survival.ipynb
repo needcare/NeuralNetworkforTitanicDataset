{
 "cells": [
  {
   "cell_type": "markdown",
   "metadata": {},
   "source": [
    "# This notebook relies on the Coursera Course \"Deep Learning and Neural Networks\" week 4 jupyter notebook from deeplearning.ai. Please enroll into the course and download the \"Deep Neural Network - Application\" and \"dnn_app_utils_v2.py\" files and insert the L_layer_model code."
   ]
  },
  {
   "cell_type": "code",
   "execution_count": 1,
   "metadata": {
    "collapsed": true
   },
   "outputs": [],
   "source": [
    "import time\n",
    "import numpy as np\n",
    "import pandas as pd\n",
    "import seaborn as sns\n",
    "import h5py\n",
    "import matplotlib.pyplot as plt\n",
    "\n",
    "# DOWNLOAD AND IMPORT dnn_app_utils-v2 FILE FROM COURSERA\n",
    "from dnn_app_utils_v2 imp