{
 "cells": [
  {
   "cell_type": "markdown",
   "metadata": {},
   "source": [
    "# This notebook relies on the Coursera Course \"Deep Learning and Neural Networks\" week 4 jupyter notebook from deeplearning.ai. Please enroll into the course and do