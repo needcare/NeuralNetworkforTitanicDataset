{
 "cells": [
  {
   "cell_type": "markdown",
   "metadata": {},
   "source": [
    "# This notebook relies on the Coursera Course \"Deep Learning and Neural Networks\" week 4 jupyter notebook from deeplearning.ai. Please enroll into the course and download the \"Deep Neural Network - Application\" and \"dnn_app_utils_v2.py\" files and insert the L_layer_model code."
   ]
  },
  {
   "cell_type": "code",
   "execution_count": 1,
   "metadata": {
    "collapsed": true
   },
   "outputs": [],
   "source": [
    "import time\n",
    "import numpy as np\n",
    "import pandas as pd\n",
    "import seaborn as sns\n",
    "import h5py\n",
    "import matplotlib.pyplot as plt\n",
    "\n",
    "# DOWNLOAD AND IMPORT dnn_app_utils-v2 FILE FROM COURSERA\n",
    "from dnn_app_utils_v2 import *\n",
    "\n",
    "%matplotlib inline\n",
    "plt.rcParams['figure.figsize'] = (5.0, 4.0) # set default size of plots\n",
    "plt.rcParams['image.interpolation'] = 'nearest'\n",
    "plt.rcParams['image.cmap'] = 'gray'\n",
    "\n",
    "%load_ext autoreload\n",
    "%autoreload 2\n",
    "\n",
    "np.random.seed(1)"
   ]
  },
  {
   "cell_type": "code",
   "execution_count": 2,
   "metadata": {
    "collapsed": true
   },
   "outputs": [],
   "source": [
    "def L_layer_model(X, Y, layers_dims, learning_rate = 0.0075, num_iterations = 3000, print_cost=False):\n",
    "   ### INSERT CODE FROM COURSERA HERE\n",
    "   ### INSERT CODE FROM COURSERA HERE\n",
    "   ### INSERT CODE FROM COURSERA HERE\n",
    "   ### INSERT CODE FROM COURSERA HERE\n",
    "   ### INSERT CODE FROM COURSERA HERE\n",
    "    \n",
    "    return parameters"
   ]
  },
  {
   "cell_type": "markdown",
   "metadata": {
    "collapsed": true
   },
   "source": [
    "# Train Neural Net on Titanic Survival data set"
   ]
  },
  {
   "cell_type": "markdown",
   "metadata": {},
   "source": [
    "## Read training data"
   ]
  },
  {
   "cell_type": "code",
   "execution_count": 3,
   "metadata": {
    "collapsed": true
   },
   "outputs": [],
   "source": [
    "train = pd.read_csv('datasets/titanic_train.csv')"
   ]
  },
  {
   "cell_type": "markdown",
   "metadata": {},
   "source": [
    "## Preprocess the data"
   ]
  },
  {
   "cell_type": "markdown",
   "metadata": {},
   "source": [
    "### Impute passenger age based on class"
   ]
  },
  {
   "cell_type": "code",
   "execution_count": 4,
   "metadata": {},
   "outputs": [
    {
     "data": {
      "text/plain": [
       "<matplotlib.axes._subplots.AxesSubplot at 0x10d7cddd8>"
      ]
     },
     "execution_count": 4,
     "metadata": {},
     "output_type": "execute_result"
    },
    {
     "data": {
      "image/png": "iVBORw0KGgoAAAANSUhEUgAAAswAAAGoCAYAAABSXLPLAAAABHNCSVQICAgIfAhkiAAAAAlwSFlz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\ncZIbklxfa704yV